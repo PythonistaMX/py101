{
 "cells": [
  {
   "cell_type": "markdown",
   "metadata": {},
   "source": [
    "[![pythonista.io](imagenes/pythonista.png)](https://www.pythonista.io)"
   ]
  },
  {
   "cell_type": "markdown",
   "metadata": {},
   "source": [
    "# Palabras reservadas y nombres."
   ]
  },
  {
   "cell_type": "markdown",
   "metadata": {},
   "source": [
    "## Palabras reservadas de *Python*.\n",
    "\n",
    "Las palabras reservadas (*keywords*) corresponden a los nombres de comandos que el intérprete de *Python* incluye por defecto. No se deben utilizar dichas palabras para asignar nombres a otros objetos.\n",
    "\n",
    "El listado de palabras reservadas puede ser consultado ingresando ```help('keywords')``` desde la interfaz interactiva."
   ]
  },
  {
   "cell_type": "markdown",
   "metadata": {},
   "source": [
    "**Ejemplo:**"
   ]
  },
  {
   "cell_type": "markdown",
   "metadata": {},
   "source": [
    "* La siguiente celda desplegará las palabras reservadas del intérpete de Python que usa la notebook."
   ]
  },
  {
   "cell_type": "code",
   "execution_count": null,
   "metadata": {},
   "outputs": [],
   "source": [
    "help(\"keywords\")"
   ]
  },
  {
   "cell_type": "markdown",
   "metadata": {},
   "source": [
    "### Palabras reservadas en *Python 2.7*.\n",
    "\n",
    "Las palabras reservadas en *Python 2.7* son la siguientes.\n",
    "```\n",
    "and                 elif                if                  print\n",
    "as                  else                import              raise\n",
    "assert              except              in                  return\n",
    "break               exec                is                  try\n",
    "class               finally             lambda              while\n",
    "continue            for                 not                 with\n",
    "def                 from                or                  yield\n",
    "del                 global              pass                \n",
    "```"
   ]
  },
  {
   "cell_type": "markdown",
   "metadata": {},
   "source": [
    "### El módulo ```__builtins__```.\n",
    "\n",
    "*Python* es un lenguaje modular. Es decir, que tiene la capacidad de cargar piezas de código cuyos objetos se añaden al espacio de nombres del intéreprete.\n",
    "\n",
    "El módulo ```__builtins__``` es cargado automáticamente por el intérprete cada vez que este es inicializado. \n",
    "\n",
    "No se recomienda usar los nombres definidos en este módulo."
   ]
  },
  {
   "cell_type": "markdown",
   "metadata": {},
   "source": [
    "**Ejemplo:**"
   ]
  },
  {
   "cell_type": "markdown",
   "metadata": {},
   "source": [
    "* La siguiente celda mostrará los nombres de los elementos del módulo ```__builtins__```."
   ]
  },
  {
   "cell_type": "code",
   "execution_count": null,
   "metadata": {},
   "outputs": [],
   "source": [
    "dir(__builtins__)"
   ]
  },
  {
   "cell_type": "markdown",
   "metadata": {},
   "source": [
    "## El espacio de nombres (*namespace*).\n",
    "\n",
    "El espacio de nombres contiene una relación de los objetos existentes en la memoria del sistema y los nombres a los que están ligados.\n",
    "\n",
    "* *Python* es un lenguaje de muy alto nivel en el que todos sus elementos son objetos, incluyendo los tipos de datos básicos de tal forma que los términos \"valor\" y \"objeto\" son sinónimos.\n",
    "* Si un objeto no está ligado al menos a un nombre, dicho objeto es desechado por el intérprete.\n",
    "* Un objeto puede tener más de un nombre."
   ]
  },
  {
   "cell_type": "markdown",
   "metadata": {},
   "source": [
    "## El operador de asignación ```=```.\n",
    "\n",
    "Para relacionar a un nombre con un objeto, se utiliza el operador de asignación ```=``` con la siguiente sintaxis:\n",
    "\n",
    "```\n",
    "<nombre> = <objeto>\n",
    "```\n"
   ]
  },
  {
   "cell_type": "markdown",
   "metadata": {},
   "source": [
    "**Ejemplos:**\n",
    "\n",
    "* Las siguientes celdas asignarán un nombre a un objeto de *Python*. Por el momento no se discutirá el qué tipo de objeto del que se trata."
   ]
  },
  {
   "cell_type": "code",
   "execution_count": 1,
   "metadata": {},
   "outputs": [],
   "source": [
    "saludo = 'Hola'"
   ]
  },
  {
   "cell_type": "code",
   "execution_count": null,
   "metadata": {},
   "outputs": [],
   "source": [
    "matriz = [[\"autobús\", \"diesel\", True], [\"automóvil\", \"gasolina\", True]] "
   ]
  },
  {
   "cell_type": "code",
   "execution_count": null,
   "metadata": {},
   "outputs": [],
   "source": [
    "numero = 23.45"
   ]
  },
  {
   "cell_type": "markdown",
   "metadata": {},
   "source": [
    "## Despliegue de  valores ligados a un nombre en el entorno interactivo. \n",
    "\n",
    "En el entorno interactivo es posible desplegar el contenido de un objeto tan sólo con ingresar su nombre.\n",
    "\n",
    "Si se hace referencia a un nombre que no se encuentra en el espacio de nombres, se desencadenará un error de tipo ```NameError```."
   ]
  },
  {
   "cell_type": "markdown",
   "metadata": {},
   "source": [
    "**Ejemplos:**"
   ]
  },
  {
   "cell_type": "markdown",
   "metadata": {},
   "source": [
    "* Cada una de las celdas siguientes regresará el objeto que corresponde a cada nombre asignado."
   ]
  },
  {
   "cell_type": "code",
   "execution_count": null,
   "metadata": {},
   "outputs": [],
   "source": [
    "saludo"
   ]
  },
  {
   "cell_type": "code",
   "execution_count": null,
   "metadata": {},
   "outputs": [],
   "source": [
    "matriz"
   ]
  },
  {
   "cell_type": "code",
   "execution_count": null,
   "metadata": {},
   "outputs": [],
   "source": [
    "numero"
   ]
  },
  {
   "cell_type": "markdown",
   "metadata": {},
   "source": [
    "* El nombre ```indefinido``` no se encuentra en el espacio de nombres y por lo tanto se desencadenará un error de tipo  ```NameError```."
   ]
  },
  {
   "cell_type": "code",
   "execution_count": null,
   "metadata": {},
   "outputs": [],
   "source": [
    "indefinido"
   ]
  },
  {
   "cell_type": "markdown",
   "metadata": {},
   "source": [
    "### Asignación de múltiples nombres a igual número de objetos.\n",
    "\n",
    "Es posible asignar a varios nombres un número igual de objetos usando un sólo operador de asignación mediante la siguiente sintaxis:\n",
    "\n",
    "```\n",
    "<nombre 1>, <nombre 2>, <nombre 3>, ..., <nombre n> = <objeto 1>, <objeto 2>, <objeto 3>, ...,<objeto n>```"
   ]
  },
  {
   "cell_type": "markdown",
   "metadata": {},
   "source": [
    "**Ejemplo:**\n",
    "\n",
    "* La siguiente celda contiene una línea que asignará 4 nombres a igual número de objetos."
   ]
  },
  {
   "cell_type": "code",
   "execution_count": null,
   "metadata": {},
   "outputs": [],
   "source": [
    "entero, flotante, complejo, booleano = 12, 4.5, (12.3 + 23j), True"
   ]
  },
  {
   "cell_type": "code",
   "execution_count": null,
   "metadata": {},
   "outputs": [],
   "source": [
    "entero"
   ]
  },
  {
   "cell_type": "code",
   "execution_count": null,
   "metadata": {},
   "outputs": [],
   "source": [
    "complejo"
   ]
  },
  {
   "cell_type": "code",
   "execution_count": null,
   "metadata": {},
   "outputs": [],
   "source": [
    "flotante"
   ]
  },
  {
   "cell_type": "code",
   "execution_count": null,
   "metadata": {},
   "outputs": [],
   "source": [
    "booleano"
   ]
  },
  {
   "cell_type": "markdown",
   "metadata": {},
   "source": [
    "### Sintaxis para la elaboración de nombres en *Python 3*.\n",
    "\n",
    "* *Python 3* acepta el uso de [*Unicode*](https://es.wikipedia.org/wiki/Unicode), por lo que es posible utilizar cualquier caracter alfabético, incluso aquellos que no pertencen al alfabeto occidental para la elaboración de nombres.\n",
    "* Los nombres pueden empezar con un guión bajo ```_``` o un caracter alfabético.\n",
    "* Después del primer caracter, se pueden utilizar caracteres alfabéticos, números y/o guiones bajos.\n",
    "* No se permiten caracteres distintos a los alfabéticos o que pudieran confundirse con operadores como ```|```, ```~```, ```#```, ```-```, etc.\n",
    "* Se pueden utilizar mayúsculas, pero cabe señalar que *Python* es sensible a mayúsculas.\n",
    "\n",
    "**Nota:** *Python 2* sólo soporta nombres con caracteres alfabéticos del código [*ASCII*](https://es.wikipedia.org/wiki/ASCII)."
   ]
  },
  {
   "cell_type": "markdown",
   "metadata": {},
   "source": [
    "**Ejemplos:**"
   ]
  },
  {
   "cell_type": "markdown",
   "metadata": {},
   "source": [
    "* Las siguientes celdas contienen asignaciones con nombres que se apegan a la sintaxis correcta, incluso usando el alfabeto hebreo."
   ]
  },
  {
   "cell_type": "code",
   "execution_count": null,
   "metadata": {},
   "outputs": [],
   "source": [
    "_saludo = 'Hola'"
   ]
  },
  {
   "cell_type": "code",
   "execution_count": null,
   "metadata": {},
   "outputs": [],
   "source": [
    "número = 23"
   ]
  },
  {
   "cell_type": "code",
   "execution_count": null,
   "metadata": {},
   "outputs": [],
   "source": [
    "Numero = 45.32"
   ]
  },
  {
   "cell_type": "markdown",
   "metadata": {},
   "source": [
    "* A continuación se ejemplifica el usos de caracteres de alfabetos distintos a los occidentales utilizando el alfabeto hebreo, el cual se escribe de derecha a izquierda."
   ]
  },
  {
   "cell_type": "code",
   "execution_count": null,
   "metadata": {},
   "outputs": [],
   "source": [
    "יהוה = \"Dios\""
   ]
  },
  {
   "cell_type": "markdown",
   "metadata": {},
   "source": [
    "* Las siguientes celdas desplegarán el valor del objeto ligado a los nombres definidos previamente en esta notebook."
   ]
  },
  {
   "cell_type": "code",
   "execution_count": null,
   "metadata": {},
   "outputs": [],
   "source": [
    "saludo"
   ]
  },
  {
   "cell_type": "code",
   "execution_count": null,
   "metadata": {},
   "outputs": [],
   "source": [
    "_saludo"
   ]
  },
  {
   "cell_type": "code",
   "execution_count": null,
   "metadata": {},
   "outputs": [],
   "source": [
    "número"
   ]
  },
  {
   "cell_type": "code",
   "execution_count": null,
   "metadata": {},
   "outputs": [],
   "source": [
    "Numero"
   ]
  },
  {
   "cell_type": "code",
   "execution_count": null,
   "metadata": {},
   "outputs": [],
   "source": [
    "יהוה"
   ]
  },
  {
   "cell_type": "markdown",
   "metadata": {},
   "source": [
    "* En la siguiente celda se realizará una asignación utilizando un nombre incorrecto, desencandeado un error de tipo ```SyntaxError```. "
   ]
  },
  {
   "cell_type": "code",
   "execution_count": null,
   "metadata": {},
   "outputs": [],
   "source": [
    "1error = \"Ups\""
   ]
  },
  {
   "cell_type": "markdown",
   "metadata": {},
   "source": [
    "## La función ```id()```.\n",
    "\n",
    "Cada objeto cuenta con un número identificador, el cual corresponde a la posición en la que se encuentra almacenado en la memoria. \n",
    "\n",
    "La función ```id()``` permite acceder al número identificador de cada objeto usando su nombre como argumento.\n",
    "\n",
    "La sintaxis es la siguiente:\n",
    "\n",
    "```\n",
    "id(<nombre>)\n",
    "```"
   ]
  },
  {
   "cell_type": "markdown",
   "metadata": {},
   "source": [
    "**Ejemplo:**\n",
    "\n",
    "* A continuación se le asignará el nombre ```saludo``` al objeto ```\"Hola\"``` y se obtendrá su número identificador mediante la función ```id()```."
   ]
  },
  {
   "cell_type": "code",
   "execution_count": null,
   "metadata": {},
   "outputs": [],
   "source": [
    "saludo = \"Hola\""
   ]
  },
  {
   "cell_type": "code",
   "execution_count": null,
   "metadata": {},
   "outputs": [],
   "source": [
    "id(saludo)"
   ]
  },
  {
   "cell_type": "markdown",
   "metadata": {},
   "source": [
    "## Asignación de múltiples nombres al mismo objeto.\n",
    "\n",
    "*Python* es un lenguaje que gestiona de forma automática el uso de la memoria y trata de optimizar su uso, por lo que en caso de que se defina un objeto idéntico a otro ya existente, no creará uno nuevo, sino que ligará el nuevo nombre al objeto existente.\n",
    "\n",
    "* Un objeto puede estar relacionado con más de un nombre. "
   ]
  },
  {
   "cell_type": "markdown",
   "metadata": {},
   "source": [
    "**Ejemplos:**"
   ]
  },
  {
   "cell_type": "markdown",
   "metadata": {},
   "source": [
    "* En las siguientes celdas se le asignarán dos nombres al objeto con valor igual a ```45```."
   ]
  },
  {
   "cell_type": "code",
   "execution_count": null,
   "metadata": {},
   "outputs": [],
   "source": [
    "numero = 45"
   ]
  },
  {
   "cell_type": "code",
   "execution_count": null,
   "metadata": {},
   "outputs": [],
   "source": [
    "otro_numero = 45"
   ]
  },
  {
   "cell_type": "markdown",
   "metadata": {},
   "source": [
    "* Aún cuando se definen de forma separada, el resultado de la función ```id()``` es el mismo para cada nombre."
   ]
  },
  {
   "cell_type": "code",
   "execution_count": null,
   "metadata": {},
   "outputs": [],
   "source": [
    "id(numero)"
   ]
  },
  {
   "cell_type": "code",
   "execution_count": null,
   "metadata": {},
   "outputs": [],
   "source": [
    "id(otro_numero)"
   ]
  },
  {
   "cell_type": "markdown",
   "metadata": {},
   "source": [
    "* La siguiente celda le asignará al objeto ```25``` el nombre de ```otro_numero```, el cual fue definido en celdas previas."
   ]
  },
  {
   "cell_type": "code",
   "execution_count": null,
   "metadata": {},
   "outputs": [],
   "source": [
    "otro_numero = 25"
   ]
  },
  {
   "cell_type": "markdown",
   "metadata": {},
   "source": [
    "* Por lo tanto, ahora el número identificador de ```numero```y ```otro_numero``` son distintos."
   ]
  },
  {
   "cell_type": "code",
   "execution_count": null,
   "metadata": {
    "scrolled": true
   },
   "outputs": [],
   "source": [
    "id(otro_numero)"
   ]
  },
  {
   "cell_type": "code",
   "execution_count": null,
   "metadata": {},
   "outputs": [],
   "source": [
    "id(numero)    "
   ]
  },
  {
   "cell_type": "code",
   "execution_count": null,
   "metadata": {},
   "outputs": [],
   "source": [
    "otro_numero = 45"
   ]
  },
  {
   "cell_type": "code",
   "execution_count": null,
   "metadata": {},
   "outputs": [],
   "source": [
    "id(otro_numero)"
   ]
  },
  {
   "cell_type": "markdown",
   "metadata": {},
   "source": [
    " ### Asignación de múltiples nombres a un objeto. \n",
    "\n",
    "Para asignarle más de un nombre al mismo objeto, sólo es necesario referenciar un nombre existente al nuevo nombre.\n",
    "\n",
    "```\n",
    "<nombre 1> = <nombre 2> \n",
    "```"
   ]
  },
  {
   "cell_type": "markdown",
   "metadata": {},
   "source": [
    "**Ejemplo:**\n",
    "\n",
    "* Las siguientes celdas le asignarán el nombre ```lista_1``` y ```lista_2``` al mismo objeto."
   ]
  },
  {
   "cell_type": "code",
   "execution_count": null,
   "metadata": {},
   "outputs": [],
   "source": [
    "lista_1 = [1, 2, 3, 4, 5]"
   ]
  },
  {
   "cell_type": "code",
   "execution_count": null,
   "metadata": {},
   "outputs": [],
   "source": [
    "lista_2 = lista_1"
   ]
  },
  {
   "cell_type": "markdown",
   "metadata": {},
   "source": [
    "* Se puede observar que el número identificador corresponde al mismo objeto, aún cuando tiene otro nombre."
   ]
  },
  {
   "cell_type": "code",
   "execution_count": null,
   "metadata": {},
   "outputs": [],
   "source": [
    "id(lista_1)"
   ]
  },
  {
   "cell_type": "code",
   "execution_count": null,
   "metadata": {},
   "outputs": [],
   "source": [
    "id(lista_2)"
   ]
  },
  {
   "cell_type": "markdown",
   "metadata": {},
   "source": [
    "## Eliminación de nombres mediante la declaración ```del```.\n",
    "\n",
    "La declaración ```del``` funciona de la siguiente manera:\n",
    "\n",
    "* Desliga al nombre de un objeto en el espacio de nombres.\n",
    "* Elimina al nombre del espacio de nombres.\n",
    "* En caso de que el objeto no esté ligado a otro nombre en el espacio de nombres, el intérprete de *Python* podría desecharlo de forma automática.\n",
    "    \n",
    "El modo en el que un objeto puede ser destruido varía dependiendo del tipo de objeto."
   ]
  },
  {
   "cell_type": "markdown",
   "metadata": {},
   "source": [
    "**Ejemplo:**"
   ]
  },
  {
   "cell_type": "markdown",
   "metadata": {},
   "source": [
    "* Se creará el objeto ```\"Juan\"``` al cual se le asignarán los nombres ```nombre``` y ```otro_nombre```."
   ]
  },
  {
   "cell_type": "code",
   "execution_count": null,
   "metadata": {},
   "outputs": [],
   "source": [
    "nombre = \"Juan\""
   ]
  },
  {
   "cell_type": "code",
   "execution_count": null,
   "metadata": {},
   "outputs": [],
   "source": [
    "id(nombre)"
   ]
  },
  {
   "cell_type": "code",
   "execution_count": null,
   "metadata": {},
   "outputs": [],
   "source": [
    "otro_nombre = \"Juan\""
   ]
  },
  {
   "cell_type": "code",
   "execution_count": null,
   "metadata": {},
   "outputs": [],
   "source": [
    "id(otro_nombre)"
   ]
  },
  {
   "cell_type": "markdown",
   "metadata": {},
   "source": [
    "* Se eliminará ```nombre``` del espacio de nombres."
   ]
  },
  {
   "cell_type": "code",
   "execution_count": null,
   "metadata": {},
   "outputs": [],
   "source": [
    "del nombre"
   ]
  },
  {
   "cell_type": "markdown",
   "metadata": {},
   "source": [
    "* Debido a que ```nombre``` fue eliminado del espacio de nombres, la siguiente celda regresará un erro de tipo ```NameError```."
   ]
  },
  {
   "cell_type": "code",
   "execution_count": null,
   "metadata": {
    "scrolled": true
   },
   "outputs": [],
   "source": [
    "nombre"
   ]
  },
  {
   "cell_type": "markdown",
   "metadata": {},
   "source": [
    "* El objeto ```\"Juan\"``` sigue existiendo en la memoria, debido a que aún existe un nombre al que está ligado."
   ]
  },
  {
   "cell_type": "code",
   "execution_count": null,
   "metadata": {},
   "outputs": [],
   "source": [
    "otro_nombre"
   ]
  },
  {
   "cell_type": "code",
   "execution_count": null,
   "metadata": {},
   "outputs": [],
   "source": [
    "del otro_nombre"
   ]
  },
  {
   "cell_type": "markdown",
   "metadata": {},
   "source": [
    "### Despliegue del contendio del espacio de nombres.\n",
    "\n",
    "La función ```dir()``` despliega un listado del contenido del espacio de nombres de un objeto que es ingresado como argumento.\n",
    "\n",
    "```\n",
    "dir(<objeto>)\n",
    "```\n",
    "\n",
    "Cuando se usa la función ```dir()``` sin argumentos, esta regresa el contenido del espacio de nombres principal."
   ]
  },
  {
   "cell_type": "markdown",
   "metadata": {},
   "source": [
    "**Ejemplos:**"
   ]
  },
  {
   "cell_type": "markdown",
   "metadata": {},
   "source": [
    "* La siguiente celda despelgará el listado de nombres de esta *notebook*.\n",
    "\n",
    "*Se puede apreciar que el listado incluye una serie de nombre especiales y todos los nombres que se han definido a lo largo de este capítulo."
   ]
  },
  {
   "cell_type": "code",
   "execution_count": null,
   "metadata": {
    "scrolled": false
   },
   "outputs": [],
   "source": [
    "dir()"
   ]
  },
  {
   "cell_type": "markdown",
   "metadata": {},
   "source": [
    "* La siguiente celda elimina el nombre ```saludo```, el cual fue definido previamente."
   ]
  },
  {
   "cell_type": "code",
   "execution_count": null,
   "metadata": {},
   "outputs": [],
   "source": [
    "del saludo"
   ]
  },
  {
   "cell_type": "markdown",
   "metadata": {},
   "source": [
    "* El resultado es que el nombre ```saludo``` ya no será enlistado al ejecutar la función ```dir()```."
   ]
  },
  {
   "cell_type": "code",
   "execution_count": null,
   "metadata": {},
   "outputs": [],
   "source": [
    "dir()"
   ]
  },
  {
   "cell_type": "markdown",
   "metadata": {},
   "source": [
    "* Lo mismo sucede al eliminar el nombre ```יהוה```."
   ]
  },
  {
   "cell_type": "code",
   "execution_count": null,
   "metadata": {},
   "outputs": [],
   "source": [
    "del יהוה"
   ]
  },
  {
   "cell_type": "code",
   "execution_count": null,
   "metadata": {},
   "outputs": [],
   "source": [
    "dir()"
   ]
  },
  {
   "cell_type": "markdown",
   "metadata": {},
   "source": [
    "<p style=\"text-align: center\"><a rel=\"license\" href=\"http://creativecommons.org/licenses/by/4.0/\"><img alt=\"Licencia Creative Commons\" style=\"border-width:0\" src=\"https://i.creativecommons.org/l/by/4.0/80x15.png\" /></a><br />Esta obra está bajo una <a rel=\"license\" href=\"http://creativecommons.org/licenses/by/4.0/\">Licencia Creative Commons Atribución 4.0 Internacional</a>.</p>\n",
    "<p style=\"text-align: center\">&copy; José Luis Chiquete Valdivieso. 2022.</p>"
   ]
  }
 ],
 "metadata": {
  "kernelspec": {
   "display_name": "Python 3 (ipykernel)",
   "language": "python",
   "name": "python3"
  },
  "language_info": {
   "codemirror_mode": {
    "name": "ipython",
    "version": 3
   },
   "file_extension": ".py",
   "mimetype": "text/x-python",
   "name": "python",
   "nbconvert_exporter": "python",
   "pygments_lexer": "ipython3",
   "version": "3.9.2"
  }
 },
 "nbformat": 4,
 "nbformat_minor": 1
}
